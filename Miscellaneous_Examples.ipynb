{
  "nbformat": 4,
  "nbformat_minor": 0,
  "metadata": {
    "colab": {
      "name": "Miscellaneous_Examples.ipynb",
      "provenance": [],
      "collapsed_sections": []
    },
    "kernelspec": {
      "name": "python3",
      "display_name": "Python 3"
    },
    "language_info": {
      "name": "python"
    }
  },
  "cells": [
    {
      "cell_type": "markdown",
      "source": [
        "# Banknotes dataset using pandas\n",
        "\n",
        "This brief Jupyter notebook uses tools _other than_ the `datascience` library to visualize the banknotes dataset from Section 17.4 in the textbook."
      ],
      "metadata": {
        "id": "j5oTZ_ZBWnJ0"
      }
    },
    {
      "cell_type": "code",
      "execution_count": 4,
      "metadata": {
        "id": "fzGcqgaPVfWi"
      },
      "outputs": [],
      "source": [
        "import numpy as np\n",
        "import pandas as pd\n",
        "import matplotlib.pyplot as plt\n",
        "import graphviz\n",
        "from mpl_toolkits.mplot3d import Axes3D\n",
        "from sklearn import tree\n",
        "path_data = 'http://personal.psu.edu/drh20/200DS/assets/data/'"
      ]
    },
    {
      "cell_type": "markdown",
      "source": [
        "The code below uses the `read_csv` function in the `pandas` library to read the `banknotes.csv` dataset (the same one from Section 17.4) and then display the object."
      ],
      "metadata": {
        "id": "P9h1tTRYYUu-"
      }
    },
    {
      "cell_type": "code",
      "source": [
        "banknotes = pd.read_csv(path_data + 'banknote.csv')\n",
        "banknotes"
      ],
      "metadata": {
        "id": "iSjhQBjEWEgK"
      },
      "execution_count": null,
      "outputs": []
    },
    {
      "cell_type": "markdown",
      "source": [
        "The `banknotes` object created by `read_csv` is of the `DataFrame` type:"
      ],
      "metadata": {
        "id": "-o6DCTsfYLsB"
      }
    },
    {
      "cell_type": "code",
      "source": [
        "type(banknotes)"
      ],
      "metadata": {
        "id": "WWnKwzacXF9I"
      },
      "execution_count": null,
      "outputs": []
    },
    {
      "cell_type": "markdown",
      "source": [
        "There's a `pandas` method called `groupby` that operates on `DataFrame` objects and creates groups based on one of the columns.  In our dataset, `Class` is the obvious grouping variable, so for instance we can use `groupby` to find the mean of each variable when the rows are grouped by `Class`:"
      ],
      "metadata": {
        "id": "exwfzsRmZL4b"
      }
    },
    {
      "cell_type": "code",
      "source": [
        "banknotes.groupby('Class').mean()"
      ],
      "metadata": {
        "id": "KbIxVAEgYK1V"
      },
      "execution_count": null,
      "outputs": []
    },
    {
      "cell_type": "markdown",
      "source": [
        "The code that follows creates a 3-dimensional scatterplot very much like the one seen in Subsection 17.4.2."
      ],
      "metadata": {
        "id": "r89Z1TVcqQc9"
      }
    },
    {
      "cell_type": "code",
      "source": [
        "fig = plt.figure(figsize=(8, 6))\n",
        "ax = Axes3D(fig)\n",
        "\n",
        "for grp_name, grp_idx in banknotes.groupby('Class').groups.items():\n",
        "    x = banknotes.loc[grp_idx,'WaveletVar']\n",
        "    y = banknotes.loc[grp_idx,'WaveletSkew']\n",
        "    z = banknotes.loc[grp_idx,'WaveletCurt']\n",
        "    ax.scatter(x,y,z, label=grp_name)\n",
        "\n",
        "ax.legend(labels=['Genuine', 'Counterfeit'])"
      ],
      "metadata": {
        "id": "4R1aOtBYaBVb"
      },
      "execution_count": null,
      "outputs": []
    },
    {
      "cell_type": "markdown",
      "source": [
        "Here is a simple way to produce an interactive 3D plot that can be moved with the mouse:"
      ],
      "metadata": {
        "id": "FMtuOJcnrN2z"
      }
    },
    {
      "cell_type": "code",
      "source": [
        "import plotly.express as px\n",
        "fig = px.scatter_3d(banknotes, x='WaveletVar', y='WaveletSkew', z='WaveletCurt',\n",
        "              color='Class')\n",
        "fig.show()"
      ],
      "metadata": {
        "id": "UolAIky4qiAU"
      },
      "execution_count": null,
      "outputs": []
    },
    {
      "cell_type": "markdown",
      "source": [
        "# Classification and Regression Tree (CART)\n",
        "\n",
        "CART is a classification method that we won't describe in detail in this course, though a couple examples will suffice to show how it can easily be used via freely-available software.  In this case, we'll use the `sklearn` library and its `tree` capability."
      ],
      "metadata": {
        "id": "B8MUb3FL8W4n"
      }
    },
    {
      "cell_type": "code",
      "source": [
        "banknotes"
      ],
      "metadata": {
        "id": "ZwcSlCs_VQqX"
      },
      "execution_count": null,
      "outputs": []
    },
    {
      "cell_type": "code",
      "source": [
        "predictors = banknotes.iloc[:,0:4] # These four columns will be used to predict whether counterfeit or not\n",
        "response = banknotes.iloc[:,4] # response=0 for real, response=1 for counterfeit"
      ],
      "metadata": {
        "id": "LidOkgndULPU"
      },
      "execution_count": 11,
      "outputs": []
    },
    {
      "cell_type": "code",
      "source": [
        "# Use a classification tree as implemented in the sklearn library\n",
        "CART = tree.DecisionTreeClassifier()\n",
        "CART = CART.fit(predictors, response)"
      ],
      "metadata": {
        "id": "ReSw2iqIT_hf"
      },
      "execution_count": 12,
      "outputs": []
    },
    {
      "cell_type": "code",
      "source": [
        "pred_names = np.array(predictors.columns).tolist()\n",
        "print(tree.export_text(CART, feature_names=pred_names))"
      ],
      "metadata": {
        "id": "jt_DGs8GUgrP"
      },
      "execution_count": null,
      "outputs": []
    },
    {
      "cell_type": "code",
      "source": [
        "dot_data = tree.export_graphviz(CART, out_file = None, \n",
        "                      feature_names = pred_names,\n",
        "                      filled=True, rounded=True,  \n",
        "                      special_characters=True)  \n",
        "graphviz.Source(dot_data)"
      ],
      "metadata": {
        "id": "1bA8jsZXa7aB"
      },
      "execution_count": null,
      "outputs": []
    },
    {
      "cell_type": "markdown",
      "source": [
        "We can try something similar with the `wine` dataset from Section 17.4."
      ],
      "metadata": {
        "id": "hWhkH72h9emd"
      }
    },
    {
      "cell_type": "code",
      "source": [
        "wines = pd.read_csv(path_data + 'wine.csv')\n",
        "wines"
      ],
      "metadata": {
        "id": "stxcCJ_dWbHT"
      },
      "execution_count": null,
      "outputs": []
    },
    {
      "cell_type": "markdown",
      "source": [
        "For predictors, consider only two of the columns:  `Alcohol` and `Flavanoids` (obviously we could choose a different set of columns if we wanted)."
      ],
      "metadata": {
        "id": "9y_Q0yuW91eg"
      }
    },
    {
      "cell_type": "code",
      "source": [
        "wine_pred = wines.iloc[:,[1,7]]\n",
        "wine_resp = wines.iloc[:,0]"
      ],
      "metadata": {
        "id": "ZWCVBf-KX1pI"
      },
      "execution_count": 17,
      "outputs": []
    },
    {
      "cell_type": "code",
      "source": [
        "wine_CART = tree.DecisionTreeClassifier()\n",
        "wine_CART = wine_CART.fit(wine_pred, wine_resp)"
      ],
      "metadata": {
        "id": "FFhAlTrkYBKW"
      },
      "execution_count": 19,
      "outputs": []
    },
    {
      "cell_type": "code",
      "source": [
        "wine_names = np.array(wine_pred.columns).tolist()\n",
        "print(tree.export_text(wine_CART, feature_names=wine_names))"
      ],
      "metadata": {
        "id": "ltpasQl7YJhm"
      },
      "execution_count": null,
      "outputs": []
    },
    {
      "cell_type": "code",
      "source": [
        "dot_data = tree.export_graphviz(wine_CART, out_file=None, \n",
        "                      feature_names= wine_names,\n",
        "                      filled=True, rounded=True,  \n",
        "                      special_characters=True)  \n",
        "graphviz.Source(dot_data)  "
      ],
      "metadata": {
        "id": "0yJ9OBYuY2BK"
      },
      "execution_count": null,
      "outputs": []
    },
    {
      "cell_type": "code",
      "source": [
        ""
      ],
      "metadata": {
        "id": "U-j5DmkM8QlD"
      },
      "execution_count": null,
      "outputs": []
    }
  ]
}