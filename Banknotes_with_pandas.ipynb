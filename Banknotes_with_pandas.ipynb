{
  "nbformat": 4,
  "nbformat_minor": 0,
  "metadata": {
    "colab": {
      "name": "Banknotes_with_pandas.ipynb",
      "provenance": [],
      "collapsed_sections": []
    },
    "kernelspec": {
      "name": "python3",
      "display_name": "Python 3"
    },
    "language_info": {
      "name": "python"
    }
  },
  "cells": [
    {
      "cell_type": "markdown",
      "source": [
        "# Banknotes dataset using pandas\n",
        "\n",
        "This brief Jupyter notebook uses tools _other than_ the `datascience` library to visualize the banknotes dataset from Section 17.4 in the textbook."
      ],
      "metadata": {
        "id": "j5oTZ_ZBWnJ0"
      }
    },
    {
      "cell_type": "code",
      "execution_count": null,
      "metadata": {
        "id": "fzGcqgaPVfWi"
      },
      "outputs": [],
      "source": [
        "import numpy as np\n",
        "import pandas as pd\n",
        "import matplotlib.pyplot as plt\n",
        "from mpl_toolkits.mplot3d import Axes3D\n",
        "path_data = 'http://personal.psu.edu/drh20/200DS/assets/data/'"
      ]
    },
    {
      "cell_type": "markdown",
      "source": [
        "The code below uses the `read_csv` function in the `pandas` library to read the `banknotes.csv` dataset (the same one from Section 17.4) and then display the object."
      ],
      "metadata": {
        "id": "P9h1tTRYYUu-"
      }
    },
    {
      "cell_type": "code",
      "source": [
        "banknotes = pd.read_csv(path_data + 'banknote.csv')\n",
        "banknotes"
      ],
      "metadata": {
        "id": "iSjhQBjEWEgK"
      },
      "execution_count": null,
      "outputs": []
    },
    {
      "cell_type": "markdown",
      "source": [
        "The `banknotes` object created by `read_csv` is of the `DataFrame` type:"
      ],
      "metadata": {
        "id": "-o6DCTsfYLsB"
      }
    },
    {
      "cell_type": "code",
      "source": [
        "type(banknotes)"
      ],
      "metadata": {
        "id": "WWnKwzacXF9I"
      },
      "execution_count": null,
      "outputs": []
    },
    {
      "cell_type": "markdown",
      "source": [
        "There's a `pandas` method called `groupby` that operates on `DataFrame` objects and creates groups based on one of the columns.  In our dataset, `Class` is the obvious grouping variable, so for instance we can use `groupby` to find the mean of each variable when the rows are grouped by `Class`:"
      ],
      "metadata": {
        "id": "exwfzsRmZL4b"
      }
    },
    {
      "cell_type": "code",
      "source": [
        "banknotes.groupby('Class').mean()"
      ],
      "metadata": {
        "id": "KbIxVAEgYK1V"
      },
      "execution_count": null,
      "outputs": []
    },
    {
      "cell_type": "markdown",
      "source": [
        "The code that follows creates a 3-dimensional scatterplot very much like the one seen in Subsection 17.4.2."
      ],
      "metadata": {
        "id": "r89Z1TVcqQc9"
      }
    },
    {
      "cell_type": "code",
      "source": [
        "fig = plt.figure(figsize=(8, 6))\n",
        "ax = Axes3D(fig)\n",
        "\n",
        "for grp_name, grp_idx in banknotes.groupby('Class').groups.items():\n",
        "    x = banknotes.loc[grp_idx,'WaveletVar']\n",
        "    y = banknotes.loc[grp_idx,'WaveletSkew']\n",
        "    z = banknotes.loc[grp_idx,'WaveletCurt']\n",
        "    ax.scatter(x,y,z, label=grp_name)\n",
        "\n",
        "ax.legend(labels=['Genuine', 'Counterfeit'])"
      ],
      "metadata": {
        "id": "4R1aOtBYaBVb"
      },
      "execution_count": null,
      "outputs": []
    }
  ]
}